{
 "cells": [
  {
   "cell_type": "markdown",
   "metadata": {},
   "source": [
    "## 6.10 Homework\n",
    "\n",
    "The goal of this homework is to create a tree-based regression model for prediction apartment prices (column `'price'`).\n",
    "\n",
    "In this homework we'll again use the New York City Airbnb Open Data dataset - the same one we used in homework 2 and 3.\n",
    "\n",
    "You can take it from [Kaggle](https://www.kaggle.com/dgomonov/new-york-city-airbnb-open-data?select=AB_NYC_2019.csv)\n",
    "or download from [here](https://raw.githubusercontent.com/alexeygrigorev/datasets/master/AB_NYC_2019.csv)\n",
    "if you don't want to sign up to Kaggle.\n",
    "\n",
    "Let's load the data:"
   ]
  },
  {
   "cell_type": "code",
   "execution_count": 1,
   "metadata": {},
   "outputs": [],
   "source": [
    "import pandas as pd\n",
    "import numpy as np\n",
    "import os\n",
    "import matplotlib.pyplot as plt\n",
    "import seaborn as sns\n",
    "\n",
    "%matplotlib inline"
   ]
  },
  {
   "cell_type": "code",
   "execution_count": 4,
   "metadata": {},
   "outputs": [
    {
     "name": "stderr",
     "output_type": "stream",
     "text": [
      "'wget' is not recognized as an internal or external command,\n",
      "operable program or batch file.\n"
     ]
    }
   ],
   "source": [
    "if not os.path.isfile('./AB_NYC_2019.csv'):\n",
    "    !wget https://raw.githubusercontent.com/alexeygrigorev/datasets/master/AB_NYC_2019.csv"
   ]
  },
  {
   "cell_type": "code",
   "execution_count": 2,
   "metadata": {},
   "outputs": [],
   "source": [
    "columns = [\n",
    "    'neighbourhood_group', 'room_type', 'latitude', 'longitude',\n",
    "    'minimum_nights', 'number_of_reviews','reviews_per_month',\n",
    "    'calculated_host_listings_count', 'availability_365',\n",
    "    'price'\n",
    "]\n",
    "\n",
    "df = pd.read_csv('AB_NYC_2019.csv', usecols=columns)\n",
    "df.reviews_per_month = df.reviews_per_month.fillna(0)"
   ]
  },
  {
   "cell_type": "markdown",
   "metadata": {},
   "source": [
    "* Apply the log tranform to `price`\n",
    "* Do train/validation/test split with 60%/20%/20% distribution. \n",
    "* Use the `train_test_split` function and set the `random_state` parameter to 1"
   ]
  },
  {
   "cell_type": "code",
   "execution_count": 3,
   "metadata": {},
   "outputs": [],
   "source": [
    "from sklearn.model_selection import train_test_split\n",
    "\n",
    "df_full_train, df_test = train_test_split(df, test_size=0.2, random_state=1)\n",
    "\n",
    "df_train, df_val = train_test_split(df_full_train, test_size=0.25, random_state=1)\n",
    "\n",
    "df_train = df_train.reset_index(drop=True)\n",
    "df_val = df_val.reset_index(drop=True)\n",
    "df_test = df_test.reset_index(drop=True)\n",
    "\n",
    "y_train = np.log1p(df_train.price.values)\n",
    "y_val = np.log1p(df_val.price.values)\n",
    "y_test = np.log1p(df_test.price.values)\n",
    "\n",
    "del df_train['price']\n",
    "del df_val['price']\n",
    "del df_test['price']"
   ]
  },
  {
   "cell_type": "markdown",
   "metadata": {},
   "source": [
    "Now, use `DictVectorizer` to turn train and validation into matrices:"
   ]
  },
  {
   "cell_type": "code",
   "execution_count": 4,
   "metadata": {},
   "outputs": [],
   "source": [
    "from sklearn.feature_extraction import DictVectorizer\n",
    "\n",
    "dv = DictVectorizer(sparse=False)\n",
    "\n",
    "dicts_train = df_train.to_dict(orient='records')\n",
    "X_train = dv.fit_transform(dicts_train)\n",
    "\n",
    "val_dict = df_val.to_dict(orient='records')\n",
    "X_val = dv.transform(val_dict)"
   ]
  },
  {
   "cell_type": "markdown",
   "metadata": {},
   "source": [
    "## Question 1\n",
    "\n",
    "Let's train a decision tree regressor to predict the price variable. \n",
    "\n",
    "* Train a model with `max_depth=1`"
   ]
  },
  {
   "cell_type": "code",
   "execution_count": 6,
   "metadata": {},
   "outputs": [
    {
     "name": "stdout",
     "output_type": "stream",
     "text": [
      "|--- room_type=Entire home/apt <= 0.50\n",
      "|   |--- value: [4.29]\n",
      "|--- room_type=Entire home/apt >  0.50\n",
      "|   |--- value: [5.15]\n",
      "\n"
     ]
    }
   ],
   "source": [
    "from sklearn.tree import DecisionTreeRegressor\n",
    "from sklearn.tree import export_text\n",
    "\n",
    "dt = DecisionTreeRegressor(max_depth=1)\n",
    "dt.fit(X_train, y_train)\n",
    "\n",
    "print(export_text(dt, feature_names=dv.get_feature_names()))"
   ]
  },
  {
   "cell_type": "markdown",
   "metadata": {},
   "source": [
    "Which feature is used for splitting the data?\n",
    "\n",
    "* `room_type`\n",
    "* `neighbourhood_group`\n",
    "* `number_of_reviews`\n",
    "* `reviews_per_month`"
   ]
  },
  {
   "cell_type": "markdown",
   "metadata": {},
   "source": [
    "### Answer 1: \n",
    "`room_type=Entire home/apt`"
   ]
  },
  {
   "cell_type": "markdown",
   "metadata": {},
   "source": [
    "## Question 2\n",
    "\n",
    "Train a random forest model with these parameters:\n",
    "\n",
    "* `n_estimators=10`\n",
    "* `random_state=1`\n",
    "* `n_jobs=-1`  (optional - to make training faster)"
   ]
  },
  {
   "cell_type": "code",
   "execution_count": 13,
   "metadata": {},
   "outputs": [
    {
     "data": {
      "text/plain": [
       "0.462"
      ]
     },
     "execution_count": 13,
     "metadata": {},
     "output_type": "execute_result"
    }
   ],
   "source": [
    "from sklearn.ensemble import RandomForestRegressor\n",
    "\n",
    "from sklearn.metrics import mean_squared_error\n",
    "from math import sqrt\n",
    "\n",
    "rf = RandomForestRegressor(n_estimators=10,\n",
    "                           random_state=1,\n",
    "                           n_jobs=-1)\n",
    "rf.fit(X_train, y_train)\n",
    "\n",
    "y_pred = rf.predict(X_val)\n",
    "\n",
    "rmse = sqrt(mean_squared_error(y_val,y_pred))\n",
    "round(rmse,3)"
   ]
  },
  {
   "cell_type": "markdown",
   "metadata": {},
   "source": [
    "What's the RMSE of this model on validation?\n",
    "\n",
    "* 0.059\n",
    "* 0.259\n",
    "* 0.459\n",
    "* 0.659"
   ]
  },
  {
   "cell_type": "markdown",
   "metadata": {},
   "source": [
    "### Answer 2\n",
    "RMSE = 0.459 (aprox)"
   ]
  },
  {
   "cell_type": "markdown",
   "metadata": {},
   "source": [
    "## Question 3\n",
    "\n",
    "Now let's experiment with the `n_estimators` parameter\n",
    "\n",
    "* Try different values of this parameter from 10 to 200 with step 10\n",
    "* Set `random_state` to `1`\n",
    "* Evaluate the model on the validation dataset"
   ]
  },
  {
   "cell_type": "code",
   "execution_count": 19,
   "metadata": {},
   "outputs": [
    {
     "name": "stdout",
     "output_type": "stream",
     "text": [
      "10 0.462\n",
      "20 0.448\n",
      "30 0.446\n",
      "40 0.444\n",
      "50 0.442\n",
      "60 0.442\n",
      "70 0.441\n",
      "80 0.441\n",
      "90 0.441\n",
      "100 0.44\n",
      "110 0.439\n",
      "120 0.439\n",
      "130 0.439\n",
      "140 0.439\n",
      "150 0.439\n",
      "160 0.439\n",
      "170 0.439\n",
      "180 0.439\n",
      "190 0.439\n",
      "200 0.439\n"
     ]
    },
    {
     "data": {
      "text/plain": [
       "[(10, 0.462),\n",
       " (20, 0.448),\n",
       " (30, 0.446),\n",
       " (40, 0.444),\n",
       " (50, 0.442),\n",
       " (60, 0.442),\n",
       " (70, 0.441),\n",
       " (80, 0.441),\n",
       " (90, 0.441),\n",
       " (100, 0.44),\n",
       " (110, 0.439),\n",
       " (120, 0.439),\n",
       " (130, 0.439),\n",
       " (140, 0.439),\n",
       " (150, 0.439),\n",
       " (160, 0.439),\n",
       " (170, 0.439),\n",
       " (180, 0.439),\n",
       " (190, 0.439),\n",
       " (200, 0.439)]"
      ]
     },
     "execution_count": 19,
     "metadata": {},
     "output_type": "execute_result"
    }
   ],
   "source": [
    "scores = []\n",
    "\n",
    "for n in range(10, 201, 10):\n",
    "    rf = RandomForestRegressor(n_estimators=n, random_state=1)\n",
    "    rf.fit(X_train, y_train)\n",
    "\n",
    "    y_pred = rf.predict(X_val)\n",
    "    rmse = round(sqrt(mean_squared_error(y_val,y_pred)),3)\n",
    "    \n",
    "    scores.append((n, rmse))\n",
    "    print(n,rmse)\n",
    "scores"
   ]
  },
  {
   "cell_type": "markdown",
   "metadata": {},
   "source": [
    "After which value of `n_estimators` does RMSE stop improving?\n",
    "\n",
    "- 10\n",
    "- 50\n",
    "- 70\n",
    "- 120"
   ]
  },
  {
   "cell_type": "markdown",
   "metadata": {},
   "source": [
    "### Answer 3\n",
    "RMSE stop improving in `n_estimator = 120`"
   ]
  },
  {
   "cell_type": "markdown",
   "metadata": {},
   "source": [
    "## Question 4\n",
    "\n",
    "Let's select the best `max_depth`:\n",
    "\n",
    "* Try different values of `max_depth`: `[10, 15, 20, 25]`\n",
    "* For each of these values, try different values of `n_estimators` from 10 till 200 (with step 10)\n",
    "* Fix the random seed: `random_state=1`"
   ]
  },
  {
   "cell_type": "code",
   "execution_count": 24,
   "metadata": {},
   "outputs": [
    {
     "name": "stdout",
     "output_type": "stream",
     "text": [
      "max_depth n_estimators rmse\n",
      "10 10 0.44555264855924354\n",
      "max_depth n_estimators rmse\n",
      "10 20 0.4420087608705588\n",
      "max_depth n_estimators rmse\n",
      "10 30 0.4413808076445009\n",
      "max_depth n_estimators rmse\n",
      "10 40 0.44147246709402543\n",
      "max_depth n_estimators rmse\n",
      "10 50 0.4410673887594956\n",
      "max_depth n_estimators rmse\n",
      "10 60 0.4410459421233984\n",
      "max_depth n_estimators rmse\n",
      "10 70 0.4407598704010177\n",
      "max_depth n_estimators rmse\n",
      "10 80 0.4405950365838957\n",
      "max_depth n_estimators rmse\n",
      "10 90 0.4403250798157756\n",
      "max_depth n_estimators rmse\n",
      "10 100 0.4401137602802354\n",
      "max_depth n_estimators rmse\n",
      "10 110 0.4400259912335258\n",
      "max_depth n_estimators rmse\n",
      "10 120 0.4398178667293093\n",
      "max_depth n_estimators rmse\n",
      "10 130 0.4398547755113232\n",
      "max_depth n_estimators rmse\n",
      "10 140 0.439849858533311\n",
      "max_depth n_estimators rmse\n",
      "10 150 0.4396900165901451\n",
      "max_depth n_estimators rmse\n",
      "10 160 0.4396442598915558\n",
      "max_depth n_estimators rmse\n",
      "10 170 0.43962394971115537\n",
      "max_depth n_estimators rmse\n",
      "10 180 0.4397169310258638\n",
      "max_depth n_estimators rmse\n",
      "10 190 0.4396683937380781\n",
      "max_depth n_estimators rmse\n",
      "10 200 0.43967858051302805\n",
      "max_depth n_estimators rmse\n",
      "15 10 0.45014955224590053\n",
      "max_depth n_estimators rmse\n",
      "15 20 0.4413965306029092\n",
      "max_depth n_estimators rmse\n",
      "15 30 0.4398942644411996\n",
      "max_depth n_estimators rmse\n",
      "15 40 0.43928475526633337\n",
      "max_depth n_estimators rmse\n",
      "15 50 0.4383515587792329\n",
      "max_depth n_estimators rmse\n",
      "15 60 0.43798330311934036\n",
      "max_depth n_estimators rmse\n",
      "15 70 0.43745781237443004\n",
      "max_depth n_estimators rmse\n",
      "15 80 0.43726812528767756\n",
      "max_depth n_estimators rmse\n",
      "15 90 0.4368731254920105\n",
      "max_depth n_estimators rmse\n",
      "15 100 0.43651230928156826\n",
      "max_depth n_estimators rmse\n",
      "15 110 0.43628106735528754\n",
      "max_depth n_estimators rmse\n",
      "15 120 0.43621324755543006\n",
      "max_depth n_estimators rmse\n",
      "15 130 0.43628631137379764\n",
      "max_depth n_estimators rmse\n",
      "15 140 0.436211992518827\n",
      "max_depth n_estimators rmse\n",
      "15 150 0.4362256909511473\n",
      "max_depth n_estimators rmse\n",
      "15 160 0.4360759389159228\n",
      "max_depth n_estimators rmse\n",
      "15 170 0.43604736304110847\n",
      "max_depth n_estimators rmse\n",
      "15 180 0.4362009026058372\n",
      "max_depth n_estimators rmse\n",
      "15 190 0.43616751568338963\n",
      "max_depth n_estimators rmse\n",
      "15 200 0.436142154173459\n",
      "max_depth n_estimators rmse\n",
      "20 10 0.4584190912980129\n",
      "max_depth n_estimators rmse\n",
      "20 20 0.44590543140359545\n",
      "max_depth n_estimators rmse\n",
      "20 30 0.44319196966565716\n",
      "max_depth n_estimators rmse\n",
      "20 40 0.44173730529721944\n",
      "max_depth n_estimators rmse\n",
      "20 50 0.4406714060854808\n",
      "max_depth n_estimators rmse\n",
      "20 60 0.44006601983418375\n",
      "max_depth n_estimators rmse\n",
      "20 70 0.43964599939550425\n",
      "max_depth n_estimators rmse\n",
      "20 80 0.43966221451198306\n",
      "max_depth n_estimators rmse\n",
      "20 90 0.43916022683859696\n",
      "max_depth n_estimators rmse\n",
      "20 100 0.4387853067251267\n",
      "max_depth n_estimators rmse\n",
      "20 110 0.43828225408336197\n",
      "max_depth n_estimators rmse\n",
      "20 120 0.4380967658969889\n",
      "max_depth n_estimators rmse\n",
      "20 130 0.4381790275452463\n",
      "max_depth n_estimators rmse\n",
      "20 140 0.43795894092304327\n",
      "max_depth n_estimators rmse\n",
      "20 150 0.4378962431783405\n",
      "max_depth n_estimators rmse\n",
      "20 160 0.43774942178735565\n",
      "max_depth n_estimators rmse\n",
      "20 170 0.4376099072969573\n",
      "max_depth n_estimators rmse\n",
      "20 180 0.43766660438488314\n",
      "max_depth n_estimators rmse\n",
      "20 190 0.43758701284695295\n",
      "max_depth n_estimators rmse\n",
      "20 200 0.4376092495496493\n",
      "max_depth n_estimators rmse\n",
      "25 10 0.46093911426190287\n",
      "max_depth n_estimators rmse\n",
      "25 20 0.4472195089303131\n",
      "max_depth n_estimators rmse\n",
      "25 30 0.4445239573491947\n",
      "max_depth n_estimators rmse\n",
      "25 40 0.4430946601364654\n",
      "max_depth n_estimators rmse\n",
      "25 50 0.4422777416037507\n",
      "max_depth n_estimators rmse\n",
      "25 60 0.44152111429954993\n",
      "max_depth n_estimators rmse\n",
      "25 70 0.44102723477008254\n",
      "max_depth n_estimators rmse\n",
      "25 80 0.44090704297917\n",
      "max_depth n_estimators rmse\n",
      "25 90 0.4403296436262334\n",
      "max_depth n_estimators rmse\n",
      "25 100 0.4398984799558779\n",
      "max_depth n_estimators rmse\n",
      "25 110 0.43947683384868624\n",
      "max_depth n_estimators rmse\n",
      "25 120 0.43924312399404186\n",
      "max_depth n_estimators rmse\n",
      "25 130 0.439285569059559\n",
      "max_depth n_estimators rmse\n",
      "25 140 0.43902660807710686\n",
      "max_depth n_estimators rmse\n",
      "25 150 0.4389835049281224\n",
      "max_depth n_estimators rmse\n",
      "25 160 0.4387688139510855\n",
      "max_depth n_estimators rmse\n",
      "25 170 0.43869583759525776\n",
      "max_depth n_estimators rmse\n",
      "25 180 0.43884783722887344\n",
      "max_depth n_estimators rmse\n",
      "25 190 0.43870158484924415\n",
      "max_depth n_estimators rmse\n",
      "25 200 0.4386944849789363\n"
     ]
    }
   ],
   "source": [
    "scores = []\n",
    "\n",
    "for d in [10, 15, 20, 25]:\n",
    "    for n in range(10, 201, 10):\n",
    "        rf = RandomForestRegressor(n_estimators=n,\n",
    "                                    max_depth=d,\n",
    "                                    random_state=1)\n",
    "        rf.fit(X_train, y_train)\n",
    "\n",
    "        y_pred = rf.predict(X_val)\n",
    "        rmse = sqrt(mean_squared_error(y_val,y_pred))\n",
    "        \n",
    "        scores.append((d, n, round(rmse,3)))\n",
    "        \n",
    "        print('max_depth', 'n_estimators', 'rmse')\n",
    "        print(d,n,rmse)"
   ]
  },
  {
   "cell_type": "code",
   "execution_count": 25,
   "metadata": {},
   "outputs": [],
   "source": [
    "columns = ['max_depth', 'n_estimators', 'rmse']\n",
    "df_scores = pd.DataFrame(scores, columns=columns)"
   ]
  },
  {
   "cell_type": "code",
   "execution_count": 26,
   "metadata": {},
   "outputs": [
    {
     "data": {
      "text/html": [
       "<div>\n",
       "<style scoped>\n",
       "    .dataframe tbody tr th:only-of-type {\n",
       "        vertical-align: middle;\n",
       "    }\n",
       "\n",
       "    .dataframe tbody tr th {\n",
       "        vertical-align: top;\n",
       "    }\n",
       "\n",
       "    .dataframe thead tr th {\n",
       "        text-align: left;\n",
       "    }\n",
       "\n",
       "    .dataframe thead tr:last-of-type th {\n",
       "        text-align: right;\n",
       "    }\n",
       "</style>\n",
       "<table border=\"1\" class=\"dataframe\">\n",
       "  <thead>\n",
       "    <tr>\n",
       "      <th></th>\n",
       "      <th colspan=\"4\" halign=\"left\">rmse</th>\n",
       "    </tr>\n",
       "    <tr>\n",
       "      <th>max_depth</th>\n",
       "      <th>10</th>\n",
       "      <th>15</th>\n",
       "      <th>20</th>\n",
       "      <th>25</th>\n",
       "    </tr>\n",
       "    <tr>\n",
       "      <th>n_estimators</th>\n",
       "      <th></th>\n",
       "      <th></th>\n",
       "      <th></th>\n",
       "      <th></th>\n",
       "    </tr>\n",
       "  </thead>\n",
       "  <tbody>\n",
       "    <tr>\n",
       "      <th>10</th>\n",
       "      <td>0.446</td>\n",
       "      <td>0.450</td>\n",
       "      <td>0.458</td>\n",
       "      <td>0.461</td>\n",
       "    </tr>\n",
       "    <tr>\n",
       "      <th>20</th>\n",
       "      <td>0.442</td>\n",
       "      <td>0.441</td>\n",
       "      <td>0.446</td>\n",
       "      <td>0.447</td>\n",
       "    </tr>\n",
       "    <tr>\n",
       "      <th>30</th>\n",
       "      <td>0.441</td>\n",
       "      <td>0.440</td>\n",
       "      <td>0.443</td>\n",
       "      <td>0.445</td>\n",
       "    </tr>\n",
       "    <tr>\n",
       "      <th>40</th>\n",
       "      <td>0.441</td>\n",
       "      <td>0.439</td>\n",
       "      <td>0.442</td>\n",
       "      <td>0.443</td>\n",
       "    </tr>\n",
       "    <tr>\n",
       "      <th>50</th>\n",
       "      <td>0.441</td>\n",
       "      <td>0.438</td>\n",
       "      <td>0.441</td>\n",
       "      <td>0.442</td>\n",
       "    </tr>\n",
       "    <tr>\n",
       "      <th>60</th>\n",
       "      <td>0.441</td>\n",
       "      <td>0.438</td>\n",
       "      <td>0.440</td>\n",
       "      <td>0.442</td>\n",
       "    </tr>\n",
       "    <tr>\n",
       "      <th>70</th>\n",
       "      <td>0.441</td>\n",
       "      <td>0.437</td>\n",
       "      <td>0.440</td>\n",
       "      <td>0.441</td>\n",
       "    </tr>\n",
       "    <tr>\n",
       "      <th>80</th>\n",
       "      <td>0.441</td>\n",
       "      <td>0.437</td>\n",
       "      <td>0.440</td>\n",
       "      <td>0.441</td>\n",
       "    </tr>\n",
       "    <tr>\n",
       "      <th>90</th>\n",
       "      <td>0.440</td>\n",
       "      <td>0.437</td>\n",
       "      <td>0.439</td>\n",
       "      <td>0.440</td>\n",
       "    </tr>\n",
       "    <tr>\n",
       "      <th>100</th>\n",
       "      <td>0.440</td>\n",
       "      <td>0.437</td>\n",
       "      <td>0.439</td>\n",
       "      <td>0.440</td>\n",
       "    </tr>\n",
       "    <tr>\n",
       "      <th>110</th>\n",
       "      <td>0.440</td>\n",
       "      <td>0.436</td>\n",
       "      <td>0.438</td>\n",
       "      <td>0.439</td>\n",
       "    </tr>\n",
       "    <tr>\n",
       "      <th>120</th>\n",
       "      <td>0.440</td>\n",
       "      <td>0.436</td>\n",
       "      <td>0.438</td>\n",
       "      <td>0.439</td>\n",
       "    </tr>\n",
       "    <tr>\n",
       "      <th>130</th>\n",
       "      <td>0.440</td>\n",
       "      <td>0.436</td>\n",
       "      <td>0.438</td>\n",
       "      <td>0.439</td>\n",
       "    </tr>\n",
       "    <tr>\n",
       "      <th>140</th>\n",
       "      <td>0.440</td>\n",
       "      <td>0.436</td>\n",
       "      <td>0.438</td>\n",
       "      <td>0.439</td>\n",
       "    </tr>\n",
       "    <tr>\n",
       "      <th>150</th>\n",
       "      <td>0.440</td>\n",
       "      <td>0.436</td>\n",
       "      <td>0.438</td>\n",
       "      <td>0.439</td>\n",
       "    </tr>\n",
       "    <tr>\n",
       "      <th>160</th>\n",
       "      <td>0.440</td>\n",
       "      <td>0.436</td>\n",
       "      <td>0.438</td>\n",
       "      <td>0.439</td>\n",
       "    </tr>\n",
       "    <tr>\n",
       "      <th>170</th>\n",
       "      <td>0.440</td>\n",
       "      <td>0.436</td>\n",
       "      <td>0.438</td>\n",
       "      <td>0.439</td>\n",
       "    </tr>\n",
       "    <tr>\n",
       "      <th>180</th>\n",
       "      <td>0.440</td>\n",
       "      <td>0.436</td>\n",
       "      <td>0.438</td>\n",
       "      <td>0.439</td>\n",
       "    </tr>\n",
       "    <tr>\n",
       "      <th>190</th>\n",
       "      <td>0.440</td>\n",
       "      <td>0.436</td>\n",
       "      <td>0.438</td>\n",
       "      <td>0.439</td>\n",
       "    </tr>\n",
       "    <tr>\n",
       "      <th>200</th>\n",
       "      <td>0.440</td>\n",
       "      <td>0.436</td>\n",
       "      <td>0.438</td>\n",
       "      <td>0.439</td>\n",
       "    </tr>\n",
       "  </tbody>\n",
       "</table>\n",
       "</div>"
      ],
      "text/plain": [
       "               rmse                     \n",
       "max_depth        10     15     20     25\n",
       "n_estimators                            \n",
       "10            0.446  0.450  0.458  0.461\n",
       "20            0.442  0.441  0.446  0.447\n",
       "30            0.441  0.440  0.443  0.445\n",
       "40            0.441  0.439  0.442  0.443\n",
       "50            0.441  0.438  0.441  0.442\n",
       "60            0.441  0.438  0.440  0.442\n",
       "70            0.441  0.437  0.440  0.441\n",
       "80            0.441  0.437  0.440  0.441\n",
       "90            0.440  0.437  0.439  0.440\n",
       "100           0.440  0.437  0.439  0.440\n",
       "110           0.440  0.436  0.438  0.439\n",
       "120           0.440  0.436  0.438  0.439\n",
       "130           0.440  0.436  0.438  0.439\n",
       "140           0.440  0.436  0.438  0.439\n",
       "150           0.440  0.436  0.438  0.439\n",
       "160           0.440  0.436  0.438  0.439\n",
       "170           0.440  0.436  0.438  0.439\n",
       "180           0.440  0.436  0.438  0.439\n",
       "190           0.440  0.436  0.438  0.439\n",
       "200           0.440  0.436  0.438  0.439"
      ]
     },
     "execution_count": 26,
     "metadata": {},
     "output_type": "execute_result"
    }
   ],
   "source": [
    "df_scores_pivot = df_scores.pivot(index='n_estimators', columns=['max_depth'], values=['rmse'])\n",
    "df_scores_pivot.round(3)"
   ]
  },
  {
   "cell_type": "code",
   "execution_count": 27,
   "metadata": {},
   "outputs": [
    {
     "data": {
      "text/plain": [
       "<AxesSubplot:xlabel='None-max_depth', ylabel='n_estimators'>"
      ]
     },
     "execution_count": 27,
     "metadata": {},
     "output_type": "execute_result"
    },
    {
     "data": {
      "image/png": "[encoded data removed]",
      "text/plain": [
       "<Figure size 432x288 with 2 Axes>"
      ]
     },
     "metadata": {
      "needs_background": "light"
     },
     "output_type": "display_data"
    }
   ],
   "source": [
    "sns.heatmap(df_scores_pivot, annot=True, fmt=\".3f\")"
   ]
  },
  {
   "cell_type": "markdown",
   "metadata": {},
   "source": [
    "What's the best `max_depth`:\n",
    "\n",
    "* 10\n",
    "* 15\n",
    "* 20\n",
    "* 25\n",
    "\n",
    "Bonus question (not graded):\n",
    "\n",
    "Will the answer be different if we change the seed for the model?"
   ]
  },
  {
   "cell_type": "markdown",
   "metadata": {},
   "source": [
    "### Answer 4\n",
    "The best `max_depth` is 15"
   ]
  },
  {
   "cell_type": "markdown",
   "metadata": {},
   "source": [
    "## Question 5\n",
    "\n",
    "We can extract feature importance information from tree-based models. \n",
    "\n",
    "At each step of the decision tree learning algorith, it finds the best split. \n",
    "When doint it, we can calculate \"gain\" - the reduction in impurity before and after the split. \n",
    "This gain is quite useful in understanding what are the imporatant features \n",
    "for tree-based models.\n",
    "\n",
    "In Scikit-Learn, tree-based models contain this information in the `feature_importances_` field. \n",
    "\n",
    "For this homework question, we'll find the most important feature:\n",
    "\n",
    "* Train the model with these parametes:\n",
    "    * `n_estimators=10`,\n",
    "    * `max_depth=20`,\n",
    "    * `random_state=1`,\n",
    "    * `n_jobs=-1` (optional)\n",
    "* Get the feature importance information from this model"
   ]
  },
  {
   "cell_type": "code",
   "execution_count": 33,
   "metadata": {},
   "outputs": [],
   "source": [
    "rf = RandomForestRegressor(n_estimators=10,\n",
    "                           max_depth=20,\n",
    "                           random_state=1,\n",
    "                           n_jobs=-1)\n",
    "rf.fit(X_train, y_train)\n",
    "\n",
    "y_pred = rf.predict(X_val)\n",
    "rmse = sqrt(mean_squared_error(y_val,y_pred))"
   ]
  },
  {
   "cell_type": "code",
   "execution_count": 41,
   "metadata": {},
   "outputs": [
    {
     "data": {
      "text/plain": [
       "availability_365                     0.076264\n",
       "calculated_host_listings_count       0.030102\n",
       "latitude                             0.152775\n",
       "longitude                            0.154101\n",
       "minimum_nights                       0.053252\n",
       "neighbourhood_group=Bronx            0.000265\n",
       "neighbourhood_group=Brooklyn         0.000966\n",
       "neighbourhood_group=Manhattan        0.034047\n",
       "neighbourhood_group=Queens           0.001166\n",
       "neighbourhood_group=Staten Island    0.000084\n",
       "number_of_reviews                    0.041594\n",
       "reviews_per_month                    0.054430\n",
       "room_type=Entire home/apt            0.391898\n",
       "room_type=Private room               0.004032\n",
       "room_type=Shared room                0.005023\n",
       "dtype: float64"
      ]
     },
     "execution_count": 41,
     "metadata": {},
     "output_type": "execute_result"
    }
   ],
   "source": [
    "# rf.feature_importances_\n",
    "forest_importances = pd.Series(rf.feature_importances_, index=dv.get_feature_names())\n",
    "forest_importances"
   ]
  },
  {
   "cell_type": "code",
   "execution_count": 43,
   "metadata": {},
   "outputs": [
    {
     "data": {
      "text/plain": [
       "<AxesSubplot:>"
      ]
     },
     "execution_count": 43,
     "metadata": {},
     "output_type": "execute_result"
    },
    {
     "data": {
      "image/png": "[encoded data removed]",
      "text/plain": [
       "<Figure size 432x288 with 1 Axes>"
      ]
     },
     "metadata": {
      "needs_background": "light"
     },
     "output_type": "display_data"
    }
   ],
   "source": [
    "forest_importances.plot.bar()"
   ]
  },
  {
   "cell_type": "markdown",
   "metadata": {},
   "source": [
    "What's the most important feature? \n",
    "\n",
    "* `neighbourhood_group=Manhattan`\n",
    "* `room_type=Entire home/apt`\t\n",
    "* `longitude`\n",
    "* `latitude`"
   ]
  },
  {
   "cell_type": "markdown",
   "metadata": {},
   "source": [
    "### Answer 5\n",
    "The most important feature is `room_type=Entire home/apt`"
   ]
  },
  {
   "cell_type": "markdown",
   "metadata": {},
   "source": [
    "## Question 6"
   ]
  },
  {
   "cell_type": "markdown",
   "metadata": {},
   "source": [
    "Now let's train an XGBoost model! For this question, we'll tune the `eta` parameter\n",
    "\n",
    "* Install XGBoost\n",
    "* Create DMatrix for train and validation\n",
    "* Create a watchlist\n",
    "* Train a model with these parameters for 100 rounds:\n",
    "\n",
    "```\n",
    "xgb_params = {\n",
    "    'eta': 0.3, \n",
    "    'max_depth': 6,\n",
    "    'min_child_weight': 1,\n",
    "    \n",
    "    'objective': 'reg:squarederror',\n",
    "    'nthread': 8,\n",
    "    \n",
    "    'seed': 1,\n",
    "    'verbosity': 1,\n",
    "}\n",
    "```"
   ]
  },
  {
   "cell_type": "code",
   "execution_count": 44,
   "metadata": {},
   "outputs": [
    {
     "name": "stdout",
     "output_type": "stream",
     "text": [
      "Requirement already satisfied: xgboost in c:\\users\\zeus_\\anaconda3\\lib\\site-packages (1.5.0)\n",
      "Requirement already satisfied: scipy in c:\\users\\zeus_\\anaconda3\\lib\\site-packages (from xgboost) (1.6.2)\n",
      "Requirement already satisfied: numpy in c:\\users\\zeus_\\anaconda3\\lib\\site-packages (from xgboost) (1.20.1)\n"
     ]
    }
   ],
   "source": [
    "!pip install xgboost\n",
    "import xgboost as xgb"
   ]
  },
  {
   "cell_type": "code",
   "execution_count": 45,
   "metadata": {},
   "outputs": [],
   "source": [
    "features = dv.get_feature_names()\n",
    "dtrain = xgb.DMatrix(X_train, label=y_train, feature_names=features)\n",
    "dval = xgb.DMatrix(X_val, label=y_val, feature_names=features)"
   ]
  },
  {
   "cell_type": "code",
   "execution_count": 46,
   "metadata": {},
   "outputs": [],
   "source": [
    "watchlist = [(dtrain, 'train'), (dval, 'val')]"
   ]
  },
  {
   "cell_type": "code",
   "execution_count": 52,
   "metadata": {},
   "outputs": [],
   "source": [
    "def parse_xgb_output(output):\n",
    "    results = []\n",
    "\n",
    "    for line in output.stdout.strip().split('\\n'):\n",
    "        it_line, train_line, val_line = line.split('\\t')\n",
    "\n",
    "        it = int(it_line.strip('[]'))\n",
    "        train = float(train_line.split(':')[1])\n",
    "        val = float(val_line.split(':')[1])\n",
    "\n",
    "        results.append((it, train, val))\n",
    "    \n",
    "    columns = ['num_iter', 'train_auc', 'val_auc']\n",
    "    df_results = pd.DataFrame(results, columns=columns)\n",
    "    return df_results"
   ]
  },
  {
   "cell_type": "code",
   "execution_count": 53,
   "metadata": {},
   "outputs": [],
   "source": [
    "scores = {}"
   ]
  },
  {
   "cell_type": "code",
   "execution_count": 59,
   "metadata": {},
   "outputs": [],
   "source": [
    "%%capture output\n",
    "\n",
    "xgb_params = {\n",
    "    'eta': 0.01, \n",
    "    'max_depth': 6,\n",
    "    'min_child_weight': 1,\n",
    "\n",
    "    'objective': 'reg:squarederror',\n",
    "    'nthread': 8,\n",
    "\n",
    "    'seed': 1,\n",
    "    'verbosity': 1,\n",
    "}\n",
    "model = xgb.train(xgb_params, dtrain, num_boost_round=100, evals=watchlist)"
   ]
  },
  {
   "cell_type": "markdown",
   "metadata": {},
   "source": [
    "Now change `eta` first to `0.1` and then to `0.01`"
   ]
  },
  {
   "cell_type": "code",
   "execution_count": 60,
   "metadata": {},
   "outputs": [
    {
     "data": {
      "text/plain": [
       "'eta=0.01'"
      ]
     },
     "execution_count": 60,
     "metadata": {},
     "output_type": "execute_result"
    }
   ],
   "source": [
    "key = 'eta=%s' % (xgb_params['eta'])\n",
    "scores[key] = parse_xgb_output(output)\n",
    "key"
   ]
  },
  {
   "cell_type": "code",
   "execution_count": 61,
   "metadata": {},
   "outputs": [
    {
     "data": {
      "text/plain": [
       "dict_keys(['eta=0.3', 'eta=0.1', 'eta=0.01'])"
      ]
     },
     "execution_count": 61,
     "metadata": {},
     "output_type": "execute_result"
    }
   ],
   "source": [
    "scores.keys()"
   ]
  },
  {
   "cell_type": "code",
   "execution_count": 62,
   "metadata": {},
   "outputs": [
    {
     "data": {
      "text/plain": [
       "<matplotlib.legend.Legend at 0x14a9f8ac520>"
      ]
     },
     "execution_count": 62,
     "metadata": {},
     "output_type": "execute_result"
    },
    {
     "data": {
      "image/png": "[encoded data removed]",
      "text/plain": [
       "<Figure size 432x288 with 1 Axes>"
      ]
     },
     "metadata": {
      "needs_background": "light"
     },
     "output_type": "display_data"
    }
   ],
   "source": [
    "etas = ['eta=0.3', 'eta=0.1', 'eta=0.01']\n",
    "for eta in etas:\n",
    "    df_score = scores[eta]\n",
    "    plt.plot(df_score.num_iter, df_score.val_auc, label=eta)\n",
    "plt.legend()"
   ]
  },
  {
   "cell_type": "markdown",
   "metadata": {},
   "source": [
    "Which eta leads to the best RMSE score on the validation dataset?\n",
    "\n",
    "* 0.3\n",
    "* 0.1\n",
    "* 0.01"
   ]
  },
  {
   "cell_type": "markdown",
   "metadata": {},
   "source": [
    " ### Answer 6\n",
    " The best RMSE score on the validation dataset is leaded with `eta = 0.3`"
   ]
  },
  {
   "cell_type": "markdown",
   "metadata": {},
   "source": [
    "## Submit the results\n",
    "\n",
    "\n",
    "Submit your results here: https://forms.gle/wQgFkYE6CtdDed4w8\n",
    "\n",
    "It's possible that your answers won't match exactly. If it's the case, select the closest one.\n",
    "\n",
    "\n",
    "## Deadline\n",
    "\n",
    "\n",
    "The deadline for submitting is 20 October 2021, 17:00 CET (Wednesday). After that, the form will be closed.\n",
    "\n"
   ]
  }
 ],
 "metadata": {
  "kernelspec": {
   "display_name": "Python 3",
   "language": "python",
   "name": "python3"
  },
  "language_info": {
   "codemirror_mode": {
    "name": "ipython",
    "version": 3
   },
   "file_extension": ".py",
   "mimetype": "text/x-python",
   "name": "python",
   "nbconvert_exporter": "python",
   "pygments_lexer": "ipython3",
   "version": "3.8.8"
  }
 },
 "nbformat": 4,
 "nbformat_minor": 2
}
