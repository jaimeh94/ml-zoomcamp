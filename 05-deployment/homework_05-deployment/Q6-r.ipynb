{
 "cells": [
  {
   "cell_type": "code",
   "execution_count": 1,
   "id": "a3de1476",
   "metadata": {},
   "outputs": [],
   "source": [
    "import requests"
   ]
  },
  {
   "cell_type": "code",
   "execution_count": 9,
   "id": "0d2e1b5e",
   "metadata": {},
   "outputs": [],
   "source": [
    "#url = 'http://localhost:9696/predict'\n",
    "url = 'https://churn-service-jhcs.herokuapp.com/predict'"
   ]
  },
  {
   "cell_type": "code",
   "execution_count": 10,
   "id": "2f01b553",
   "metadata": {},
   "outputs": [
    {
     "name": "stdout",
     "output_type": "stream",
     "text": [
      "{'Question 6 - churn_probability': 0.32940789808151005, 'churn': False}\n"
     ]
    }
   ],
   "source": [
    "customer = {\"contract\": \"two_year\", \"tenure\": 12, \"monthlycharges\": 10}\n",
    "pred = requests.post(url, json=customer).json()\n",
    "print(pred)"
   ]
  },
  {
   "cell_type": "code",
   "execution_count": null,
   "id": "971e7a39",
   "metadata": {},
   "outputs": [],
   "source": []
  }
 ],
 "metadata": {
  "interpreter": {
   "hash": "ce21061fb1588d76005e7d155da3b5c16f996488e4ea523623693c265f8607ea"
  },
  "kernelspec": {
   "display_name": "Python 3.8.13 ('ml-zoomcamp')",
   "language": "python",
   "name": "python3"
  },
  "language_info": {
   "codemirror_mode": {
    "name": "ipython",
    "version": 3
   },
   "file_extension": ".py",
   "mimetype": "text/x-python",
   "name": "python",
   "nbconvert_exporter": "python",
   "pygments_lexer": "ipython3",
   "version": "3.8.13"
  }
 },
 "nbformat": 4,
 "nbformat_minor": 5
}
